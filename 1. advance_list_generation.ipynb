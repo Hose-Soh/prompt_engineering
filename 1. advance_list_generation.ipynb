{
 "cells": [
  {
   "cell_type": "code",
   "execution_count": 3,
   "id": "8881f9bb-4aaa-495b-b169-4a2b3c3385ce",
   "metadata": {},
   "outputs": [],
   "source": [
    "import openai\n",
    "import re\n",
    "import json\n",
    "import os\n",
    "from dotenv import load_dotenv \n",
    "import google.generativeai as genai\n",
    "#import PIL.Image"
   ]
  },
  {
   "cell_type": "code",
   "execution_count": 5,
   "id": "75c162fb-41f3-4dc4-b47d-b79bbf9716a4",
   "metadata": {},
   "outputs": [
    {
     "name": "stdout",
     "output_type": "stream",
     "text": [
      "Successful\n"
     ]
    }
   ],
   "source": [
    "# load environment variable\n",
    "load_dotenv()\n",
    "\n",
    "# load open-api-key from environment variable.\n",
    "# openai_api_key = os.getenv('OPENAI_API_KEY')\n",
    "genai_api_key = os.getenv(\"GOOGLE_API_KEY\")\n",
    "\n",
    "\n",
    "# check if the call was successful\n",
    "if genai_api_key:\n",
    "    print(\"Successful\")\n",
    "else:\n",
    "    print(\"Error loading key\")"
   ]
  },
  {
   "cell_type": "code",
   "execution_count": 6,
   "id": "9f5fad70-2430-47c6-9633-b8661ee9c2f1",
   "metadata": {},
   "outputs": [],
   "source": [
    "# get api_key\n",
    "# openai.api_key = openai_api_key\n",
    "genai.configure(api_key=genai_api_key)"
   ]
  },
  {
   "cell_type": "code",
   "execution_count": 10,
   "id": "47c7b743-f371-4f68-add5-83743efa41a3",
   "metadata": {},
   "outputs": [],
   "source": [
    "# write a function to interact with openai model\n",
    "# def interact(prompt):\n",
    "#     response = openai.chat.completions.create(\n",
    "#         model = 'gpt-3.5-turbo',\n",
    "#         messages = [\n",
    "#         {\n",
    "#             \"role\": \"user\",\n",
    "#             \"content\": prompt\n",
    "#         }\n",
    "#         ],\n",
    "#     )\n",
    "#     return response.choices[0].message.content\n",
    "\n",
    "def interact(prompt):\n",
    "    model = genai.GenerativeModel(\"gemini-1.5-flash\")\n",
    "    response = model.generate_content(prompt)\n",
    "    return response.text"
   ]
  },
  {
   "cell_type": "code",
   "execution_count": 11,
   "id": "e163395b-00be-4613-81ad-6a1128d115fc",
   "metadata": {},
   "outputs": [
    {
     "data": {
      "text/plain": [
       "\"Hi there! I'm here, how can I help you today? \\n\""
      ]
     },
     "execution_count": 11,
     "metadata": {},
     "output_type": "execute_result"
    }
   ],
   "source": [
    "# test the function\n",
    "interact(\"Hi, anybody there?\")"
   ]
  },
  {
   "cell_type": "code",
   "execution_count": 14,
   "id": "d8f82b03-1a14-4e29-93af-8ccd00d8e9ec",
   "metadata": {},
   "outputs": [
    {
     "name": "stdout",
     "output_type": "stream",
     "text": [
      "Here's a hierarchical outline for an article on \"What is Data Collection\":\n",
      "\n",
      "## What is Data Collection?\n",
      "\n",
      "1. **Introduction**\n",
      "    a. **Defining Data Collection:** \n",
      "        i. The process of gathering raw information.\n",
      "        ii. Key role in various fields (research, business, technology, etc.).\n",
      "    b. **Purpose of Data Collection:** \n",
      "        i. To understand phenomena, trends, and patterns.\n",
      "        ii. To support decision-making and problem-solving.\n",
      "        iii. To improve products, services, and processes. \n",
      "\n",
      "2. **Types of Data**\n",
      "    a. **Quantitative Data:**\n",
      "        i. Numerical information (e.g., age, height, income, sales figures).\n",
      "        ii. Measured and analyzed using statistical methods.\n",
      "    b. **Qualitative Data:**\n",
      "        i. Descriptive information (e.g., opinions, experiences, beliefs).\n",
      "        ii. Collected through interviews, surveys, observations, focus groups.\n",
      "    c. **Structured Data:**\n",
      "        i. Organized and easily searchable (e.g., data in databases, spreadsheets).\n",
      "        ii. Often used for analysis and reporting.\n",
      "    d. **Unstructured Data:**\n",
      "        i. Raw, unorganized data (e.g., text documents, images, audio recordings).\n",
      "        ii. Requires processing before analysis.\n",
      "\n",
      "3. **Methods of Data Collection**\n",
      "    a. **Surveys:**\n",
      "        i. Questionnaires distributed to a sample population.\n",
      "        ii. Can be online, paper-based, or conducted via phone.\n",
      "    b. **Interviews:**\n",
      "        i. Direct conversations with individuals.\n",
      "        ii. Can be structured, semi-structured, or unstructured.\n",
      "    c. **Observations:**\n",
      "        i. Observing and recording behavior, events, or phenomena.\n",
      "        ii. Can be participant or non-participant.\n",
      "    d. **Experiments:**\n",
      "        i. Controlled environments to test hypotheses.\n",
      "        ii. Used to establish cause-and-effect relationships.\n",
      "    e. **Focus Groups:**\n",
      "        i. Small groups of individuals discussing a topic.\n",
      "        ii. Useful for gathering opinions and insights.\n",
      "    f. **Secondary Data:**\n",
      "        i. Data collected by others and made available for use.\n",
      "        ii. Examples: government databases, research reports, industry statistics.\n",
      "\n",
      "4. **Data Collection Tools and Technologies**\n",
      "    a. **Spreadsheets:**\n",
      "        i. Organize and analyze data.\n",
      "    b. **Databases:**\n",
      "        i. Store and manage large amounts of data.\n",
      "    c. **Web Scraping:**\n",
      "        i. Extracting data from websites.\n",
      "    d. **Sensors:**\n",
      "        i. Collect data from the environment.\n",
      "    e. **Social Media Monitoring Tools:**\n",
      "        i. Track and analyze social media data.\n",
      "\n",
      "5. **Ethical Considerations in Data Collection**\n",
      "    a. **Privacy:** \n",
      "        i. Protecting individuals' personal information.\n",
      "        ii. Informed consent and data security.\n",
      "    b. **Transparency:** \n",
      "        i. Being open about data collection practices.\n",
      "        ii. Communicating how data will be used.\n",
      "    c. **Bias:** \n",
      "        i. Avoiding biased sampling and data manipulation.\n",
      "        ii. Ensuring data accuracy and representativeness.\n",
      "\n",
      "6. **Data Analysis and Interpretation**\n",
      "    a. **Data Cleaning:** \n",
      "        i. Removing errors and inconsistencies in data.\n",
      "    b. **Data Visualization:** \n",
      "        i. Presenting data in graphs, charts, and tables.\n",
      "    c. **Statistical Analysis:** \n",
      "        i. Applying statistical techniques to identify patterns and trends.\n",
      "    d. **Drawing Conclusions:**\n",
      "        i. Interpreting results and formulating insights.\n",
      "\n",
      "7. **Applications of Data Collection**\n",
      "    a. **Business Intelligence:** \n",
      "        i. Making informed business decisions.\n",
      "    b. **Market Research:** \n",
      "        i. Understanding customer behavior and preferences.\n",
      "    c. **Scientific Research:** \n",
      "        i. Testing theories and advancing knowledge.\n",
      "    d. **Healthcare:** \n",
      "        i. Diagnosing diseases, developing treatments, and improving patient care.\n",
      "    e. **Government and Policy:** \n",
      "        i. Understanding societal trends and informing policy decisions.\n",
      "\n",
      "\n",
      "This outline provides a comprehensive structure for an article explaining data collection, its types, methods, tools, ethical considerations, analysis, and applications. Remember to tailor the content to your audience and the specific purpose of your article. \n",
      "\n"
     ]
    }
   ],
   "source": [
    "# Setup the article title\n",
    "article = \"What is data collection?\"\n",
    "\n",
    "# Inject the article title into the base prompt\n",
    "base_prompt = f'''Write a numbered, hierarchical outline for an article on {article}\\n\\nHere is an example,\\\n",
    "                of the structure:\\n\\n1. Introduction \\n    a. Definition of digital marketing \\n2.\\ \n",
    "                Types of Digital Marketing \\n    a. Search Engine Optimization \\n\\   \n",
    "                b. Social Media Marketing \\n    c. Content Marketing \\n    d. Pay-Per-Click Advertising \\n\\    \n",
    "                e. Email Marketing \\n3. Benefits of Digital Marketing \\n    a. Cost-Effective \\n    b. Targeted Audience \\n\\    \n",
    "                c. Measurable Results \\n    d. Increased Reach \\n\\n----\\n'''\n",
    "\n",
    "result = interact(base_prompt)\n",
    "print(result)"
   ]
  },
  {
   "cell_type": "code",
   "execution_count": 18,
   "id": "f0ac3dab-bd3a-4188-ba07-2dd612406513",
   "metadata": {},
   "outputs": [],
   "source": [
    "# extract main sections\n",
    "main_sections = re.findall(r\"\\d+\\..*?(?=^\\d+|\\Z)\", result, re.MULTILINE | re.DOTALL)\n",
    "\n",
    "# extract subsections\n",
    "sections = {}\n",
    "\n",
    "for section in main_sections:\n",
    "    section_tittle = re.search(r\"\\d+\\..+\", section).group(0)\n",
    "    sub_sections = re.findall(r\"\\s+[a-z]\\..+\", section, re.MULTILINE)\n",
    "    sections[section_tittle] = [heading.strip() for heading in sub_sections]"
   ]
  },
  {
   "cell_type": "code",
   "execution_count": 19,
   "id": "234b75f0-5854-4dba-b23e-27e03a4cb986",
   "metadata": {},
   "outputs": [
    {
     "name": "stdout",
     "output_type": "stream",
     "text": [
      "{'1. **Introduction**': ['a. **Defining Data Collection:**', 'i. The process of gathering raw information.', 'b. **Purpose of Data Collection:**', 'i. To understand phenomena, trends, and patterns.'], '2. **Types of Data**': ['a. **Quantitative Data:**', 'i. Numerical information (e.g., age, height, income, sales figures).', 'b. **Qualitative Data:**', 'i. Descriptive information (e.g., opinions, experiences, beliefs).', 'c. **Structured Data:**', 'i. Organized and easily searchable (e.g., data in databases, spreadsheets).', 'd. **Unstructured Data:**', 'i. Raw, unorganized data (e.g., text documents, images, audio recordings).'], '3. **Methods of Data Collection**': ['a. **Surveys:**', 'i. Questionnaires distributed to a sample population.', 'b. **Interviews:**', 'i. Direct conversations with individuals.', 'c. **Observations:**', 'i. Observing and recording behavior, events, or phenomena.', 'd. **Experiments:**', 'i. Controlled environments to test hypotheses.', 'e. **Focus Groups:**', 'i. Small groups of individuals discussing a topic.', 'f. **Secondary Data:**', 'i. Data collected by others and made available for use.'], '4. **Data Collection Tools and Technologies**': ['a. **Spreadsheets:**', 'i. Organize and analyze data.', 'b. **Databases:**', 'i. Store and manage large amounts of data.', 'c. **Web Scraping:**', 'i. Extracting data from websites.', 'd. **Sensors:**', 'i. Collect data from the environment.', 'e. **Social Media Monitoring Tools:**', 'i. Track and analyze social media data.'], '5. **Ethical Considerations in Data Collection**': ['a. **Privacy:**', \"i. Protecting individuals' personal information.\", 'b. **Transparency:**', 'i. Being open about data collection practices.', 'c. **Bias:**', 'i. Avoiding biased sampling and data manipulation.'], '6. **Data Analysis and Interpretation**': ['a. **Data Cleaning:**', 'i. Removing errors and inconsistencies in data.', 'b. **Data Visualization:**', 'i. Presenting data in graphs, charts, and tables.', 'c. **Statistical Analysis:**', 'i. Applying statistical techniques to identify patterns and trends.', 'd. **Drawing Conclusions:**', 'i. Interpreting results and formulating insights.'], '7. **Applications of Data Collection**': ['a. **Business Intelligence:**', 'i. Making informed business decisions.', 'b. **Market Research:**', 'i. Understanding customer behavior and preferences.', 'c. **Scientific Research:**', 'i. Testing theories and advancing knowledge.', 'd. **Healthcare:**', 'i. Diagnosing diseases, developing treatments, and improving patient care.', 'e. **Government and Policy:**', 'i. Understanding societal trends and informing policy decisions.']}\n"
     ]
    }
   ],
   "source": [
    "print(sections)"
   ]
  },
  {
   "cell_type": "code",
   "execution_count": 36,
   "id": "fac3e188-347c-4732-a172-00613ad90d7e",
   "metadata": {},
   "outputs": [],
   "source": [
    "prompt = \"Produce an article outline for \\\"What is data engineering?\\\"\\n\\nHere is an example, of the structure. Always return valid JSON.\\n\\n{\\n\\\"top_heading_one:\\\": [\\\"subheading_one\\\", \\\"subheading_two\\\"],\\n\\\"top_heading_two:\\\": [\\\"subheading_one\\\", \\\"subheading_two\\\"],\\n} \\n\\nRemember that the ouput must be like the above, and must be parsable JSON.\\n\\n----\\n\\n\"\n",
    "result = interact(prompt)"
   ]
  },
  {
   "cell_type": "code",
   "execution_count": 37,
   "id": "23489140-7f9e-4775-94bd-bcd2ff5fa79b",
   "metadata": {},
   "outputs": [
    {
     "name": "stdout",
     "output_type": "stream",
     "text": [
      "{\n",
      "\"What is Data Engineering?\": [\n",
      "\"Defining Data Engineering\",\n",
      "\"Key Responsibilities of a Data Engineer\",\n",
      "\"The Importance of Data Engineering\",\n",
      "\"Data Engineering Skills and Technologies\",\n",
      "\"Data Engineering Tools and Platforms\",\n",
      "\"The Future of Data Engineering\"\n",
      "],\n",
      "\"The Role of Data Engineering in Data Science\": [\n",
      "\"Data Engineering for Data Science Projects\",\n",
      "\"Data Pipelines and Data Warehousing\",\n",
      "\"Data Quality and Data Governance\",\n",
      "\"Data Visualization and Analytics\",\n",
      "\"Data Engineering for Machine Learning\"\n",
      "],\n",
      "\"Data Engineering Applications and Industries\": [\n",
      "\"Data Engineering in Healthcare\",\n",
      "\"Data Engineering in Finance\",\n",
      "\"Data Engineering in E-commerce\",\n",
      "\"Data Engineering in Manufacturing\",\n",
      "\"Data Engineering in Marketing\"\n",
      "],\n",
      "\"Conclusion\": [\n",
      "\"Summary of Data Engineering Concepts\",\n",
      "\"The Value of Data Engineering for Businesses\",\n",
      "\"Future Trends in Data Engineering\"\n",
      "]\n",
      "} \n",
      "\n"
     ]
    }
   ],
   "source": [
    "print(result)"
   ]
  },
  {
   "cell_type": "code",
   "execution_count": 38,
   "id": "42897b04-95e0-4eb3-aa7e-29f9431a31c0",
   "metadata": {},
   "outputs": [
    {
     "data": {
      "text/plain": [
       "{'What is Data Engineering?': ['Defining Data Engineering',\n",
       "  'Key Responsibilities of a Data Engineer',\n",
       "  'The Importance of Data Engineering',\n",
       "  'Data Engineering Skills and Technologies',\n",
       "  'Data Engineering Tools and Platforms',\n",
       "  'The Future of Data Engineering'],\n",
       " 'The Role of Data Engineering in Data Science': ['Data Engineering for Data Science Projects',\n",
       "  'Data Pipelines and Data Warehousing',\n",
       "  'Data Quality and Data Governance',\n",
       "  'Data Visualization and Analytics',\n",
       "  'Data Engineering for Machine Learning'],\n",
       " 'Data Engineering Applications and Industries': ['Data Engineering in Healthcare',\n",
       "  'Data Engineering in Finance',\n",
       "  'Data Engineering in E-commerce',\n",
       "  'Data Engineering in Manufacturing',\n",
       "  'Data Engineering in Marketing'],\n",
       " 'Conclusion': ['Summary of Data Engineering Concepts',\n",
       "  'The Value of Data Engineering for Businesses',\n",
       "  'Future Trends in Data Engineering']}"
      ]
     },
     "execution_count": 38,
     "metadata": {},
     "output_type": "execute_result"
    }
   ],
   "source": [
    "json.loads(result)"
   ]
  },
  {
   "cell_type": "code",
   "execution_count": 39,
   "id": "150d3197-12d7-438c-82f7-58af3b616fad",
   "metadata": {},
   "outputs": [
    {
     "name": "stdout",
     "output_type": "stream",
     "text": [
      "{'What is Data Engineering?': ['Defining Data Engineering', 'Key Responsibilities of a Data Engineer', 'The Importance of Data Engineering', 'Data Engineering Skills and Technologies', 'Data Engineering Tools and Platforms', 'The Future of Data Engineering'], 'The Role of Data Engineering in Data Science': ['Data Engineering for Data Science Projects', 'Data Pipelines and Data Warehousing', 'Data Quality and Data Governance', 'Data Visualization and Analytics', 'Data Engineering for Machine Learning'], 'Data Engineering Applications and Industries': ['Data Engineering in Healthcare', 'Data Engineering in Finance', 'Data Engineering in E-commerce', 'Data Engineering in Manufacturing', 'Data Engineering in Marketing'], 'Conclusion': ['Summary of Data Engineering Concepts', 'The Value of Data Engineering for Businesses', 'Future Trends in Data Engineering']}\n"
     ]
    }
   ],
   "source": [
    "try:\n",
    "  print(json.loads(result))\n",
    "except Exception as e:\n",
    "  \n",
    "  pass\n",
    "  # Parsing the text and trying to extract the data from the string"
   ]
  },
  {
   "cell_type": "code",
   "execution_count": 52,
   "id": "102dfdd0-cd1a-4b9b-820a-4628246b20ca",
   "metadata": {},
   "outputs": [],
   "source": [
    "import yaml\n",
    "\n",
    "prompt = \"Produce an article outline in the format a .yml file for \\\"What is data collection?\\\"\\n\\nAlways return valid YML.\\n\\nHere is an example:\\n\\n- name: Example YAML File\\n  description: This is an example YAML file.\\n  sections:\\n    - title: Introduction\\n      content: |\\n        This is the introduction.\\n    - title: Conclusion\\n      content: |\\n        This is the conclusion.\\n\\n----\\n\\n\\n\"\n",
    "text = interact(prompt)\n",
    "cleaned_text = text.strip(\"```yaml\\n\")"
   ]
  },
  {
   "cell_type": "code",
   "execution_count": 53,
   "id": "ea2c07b9-aba9-454e-b5aa-f71fbbffb78b",
   "metadata": {},
   "outputs": [
    {
     "name": "stdout",
     "output_type": "stream",
     "text": [
      "- name: What is Data Collection?\n",
      "  description: An overview of the process of gathering information for analysis and insights.\n",
      "  sections:\n",
      "    - title: Introduction\n",
      "      content: |\n",
      "        - Define data collection as a fundamental process in various fields.\n",
      "        - Briefly explain its importance in decision-making, research, and business.\n",
      "    - title: Key Concepts\n",
      "      content: |\n",
      "        - **Data:** Define data as raw facts and figures.\n",
      "        - **Data Sources:**  Explain different types of data sources (primary, secondary).\n",
      "        - **Data Collection Methods:**  Outline various methods: \n",
      "            - Surveys and questionnaires\n",
      "            - Interviews\n",
      "            - Observations\n",
      "            - Experiments\n",
      "            - Web scraping\n",
      "            - APIs\n",
      "            - Sensors and IoT devices\n",
      "    - title: Stages of Data Collection\n",
      "      content: |\n",
      "        - **Planning and Design:** \n",
      "            - Determine objectives and research questions.\n",
      "            - Identify data sources and collection methods.\n",
      "            - Develop data collection instruments (surveys, questionnaires).\n",
      "        - **Data Gathering:** \n",
      "            - Implement the chosen methods.\n",
      "            - Collect data according to established protocols.\n",
      "            - Ensure data quality and integrity.\n",
      "        - **Data Processing and Cleaning:** \n",
      "            - Organize and structure collected data.\n",
      "            - Identify and handle missing or inaccurate data.\n",
      "            - Prepare data for analysis.\n",
      "    - title: Data Collection in Different Contexts\n",
      "      content: |\n",
      "        - **Business:**  Explain how data collection supports marketing, customer insights, sales forecasting.\n",
      "        - **Research:**  Highlight its role in scientific studies, market research, and academic investigations.\n",
      "        - **Healthcare:**  Describe how data collection aids in patient care, disease monitoring, and drug development.\n",
      "        - **Social Sciences:**  Illustrate its application in understanding social trends, demographics, and public opinion.\n",
      "    - title: Ethical Considerations\n",
      "      content: |\n",
      "        - **Data Privacy and Security:** Emphasize the importance of respecting privacy and securing sensitive data.\n",
      "        - **Informed Consent:** Explain the need for consent when collecting data from individuals.\n",
      "        - **Data Bias:** Discuss potential biases in data collection and their impact on analysis.\n",
      "    - title: Conclusion\n",
      "      content: |\n",
      "        - Summarize the significance of data collection in today's data-driven world.\n",
      "        - Emphasize its role in generating insights, making informed decisions, and driving progress.\n"
     ]
    }
   ],
   "source": [
    "print(cleaned_text)"
   ]
  },
  {
   "cell_type": "code",
   "execution_count": 54,
   "id": "436a7589-6942-4067-a59a-770805a5e16b",
   "metadata": {},
   "outputs": [],
   "source": [
    "# Load the YAML string into a Python object\n",
    "data = yaml.load(cleaned_text, Loader=yaml.FullLoader)"
   ]
  },
  {
   "cell_type": "code",
   "execution_count": 55,
   "id": "87711e6a-e99b-40f9-90d0-58141440b7c9",
   "metadata": {},
   "outputs": [
    {
     "name": "stdout",
     "output_type": "stream",
     "text": [
      "[{'name': 'What is Data Collection?', 'description': 'An overview of the process of gathering information for analysis and insights.', 'sections': [{'title': 'Introduction', 'content': '- Define data collection as a fundamental process in various fields.\\n- Briefly explain its importance in decision-making, research, and business.\\n'}, {'title': 'Key Concepts', 'content': '- **Data:** Define data as raw facts and figures.\\n- **Data Sources:**  Explain different types of data sources (primary, secondary).\\n- **Data Collection Methods:**  Outline various methods: \\n    - Surveys and questionnaires\\n    - Interviews\\n    - Observations\\n    - Experiments\\n    - Web scraping\\n    - APIs\\n    - Sensors and IoT devices\\n'}, {'title': 'Stages of Data Collection', 'content': '- **Planning and Design:** \\n    - Determine objectives and research questions.\\n    - Identify data sources and collection methods.\\n    - Develop data collection instruments (surveys, questionnaires).\\n- **Data Gathering:** \\n    - Implement the chosen methods.\\n    - Collect data according to established protocols.\\n    - Ensure data quality and integrity.\\n- **Data Processing and Cleaning:** \\n    - Organize and structure collected data.\\n    - Identify and handle missing or inaccurate data.\\n    - Prepare data for analysis.\\n'}, {'title': 'Data Collection in Different Contexts', 'content': '- **Business:**  Explain how data collection supports marketing, customer insights, sales forecasting.\\n- **Research:**  Highlight its role in scientific studies, market research, and academic investigations.\\n- **Healthcare:**  Describe how data collection aids in patient care, disease monitoring, and drug development.\\n- **Social Sciences:**  Illustrate its application in understanding social trends, demographics, and public opinion.\\n'}, {'title': 'Ethical Considerations', 'content': '- **Data Privacy and Security:** Emphasize the importance of respecting privacy and securing sensitive data.\\n- **Informed Consent:** Explain the need for consent when collecting data from individuals.\\n- **Data Bias:** Discuss potential biases in data collection and their impact on analysis.\\n'}, {'title': 'Conclusion', 'content': \"- Summarize the significance of data collection in today's data-driven world.\\n- Emphasize its role in generating insights, making informed decisions, and driving progress.\"}]}]\n"
     ]
    }
   ],
   "source": [
    "print(data)"
   ]
  },
  {
   "cell_type": "code",
   "execution_count": null,
   "id": "98c03ea9-2e51-4c49-8ef1-b620de88fac8",
   "metadata": {},
   "outputs": [],
   "source": []
  }
 ],
 "metadata": {
  "kernelspec": {
   "display_name": "prompt_eng (env)",
   "language": "python",
   "name": "prompt_eng"
  },
  "language_info": {
   "codemirror_mode": {
    "name": "ipython",
    "version": 3
   },
   "file_extension": ".py",
   "mimetype": "text/x-python",
   "name": "python",
   "nbconvert_exporter": "python",
   "pygments_lexer": "ipython3",
   "version": "3.11.6"
  }
 },
 "nbformat": 4,
 "nbformat_minor": 5
}
